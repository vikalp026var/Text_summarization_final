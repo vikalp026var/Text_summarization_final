{
 "cells": [
  {
   "cell_type": "code",
   "execution_count": 1,
   "metadata": {},
   "outputs": [],
   "source": [
    "import os "
   ]
  },
  {
   "cell_type": "code",
   "execution_count": 2,
   "metadata": {},
   "outputs": [
    {
     "data": {
      "text/plain": [
       "'c:\\\\Users\\\\PC\\\\Text_summarization_final\\\\research'"
      ]
     },
     "execution_count": 2,
     "metadata": {},
     "output_type": "execute_result"
    }
   ],
   "source": [
    "%pwd"
   ]
  },
  {
   "cell_type": "code",
   "execution_count": 3,
   "metadata": {},
   "outputs": [],
   "source": [
    "os.chdir('../')"
   ]
  },
  {
   "cell_type": "code",
   "execution_count": 4,
   "metadata": {},
   "outputs": [
    {
     "data": {
      "text/plain": [
       "'c:\\\\Users\\\\PC\\\\Text_summarization_final'"
      ]
     },
     "execution_count": 4,
     "metadata": {},
     "output_type": "execute_result"
    }
   ],
   "source": [
    "pwd"
   ]
  },
  {
   "cell_type": "code",
   "execution_count": 7,
   "metadata": {},
   "outputs": [],
   "source": [
    "from dataclasses import dataclass\n",
    "from pathlib import Path"
   ]
  },
  {
   "cell_type": "code",
   "execution_count": 10,
   "metadata": {},
   "outputs": [],
   "source": [
    "@dataclass(frozen=True)\n",
    "class DataTransfomrationConfig:\n",
    "     root_dir: Path\n",
    "     data_path: Path\n",
    "     tokenizer_name:Path\n"
   ]
  },
  {
   "cell_type": "code",
   "execution_count": 9,
   "metadata": {},
   "outputs": [],
   "source": [
    "from textSummarization.constant import *\n",
    "from textSummarization.utils.common import read_yaml,create_directories"
   ]
  },
  {
   "cell_type": "code",
   "execution_count": 16,
   "metadata": {},
   "outputs": [],
   "source": [
    "class ConfrigurationManager:\n",
    "     def __init__(\n",
    "          self,\n",
    "          config_filepath=CONFIG_FILE_PATH,\n",
    "          params_filepath=PARAMS_FILE_PATH):\n",
    "          self.config=read_yaml(config_filepath)\n",
    "          self.params=read_yaml(params_filepath)\n",
    "          create_directories([self.config.artifacts_root])\n",
    "     \n",
    "     def get_data_transformation_config(self)->DataTransfomrationConfig:\n",
    "          config=self.config.data_transformation\n",
    "          create_directories([config.root_dir])\n",
    "          # print(\"----\")\n",
    "          data_transformation_config=DataTransfomrationConfig(\n",
    "               root_dir= config.root_dir,\n",
    "               data_path=config.data_path,\n",
    "               tokenizer_name=config.tokenizer_name,\n",
    "          )\n",
    "          \n",
    "          return data_transformation_config"
   ]
  },
  {
   "cell_type": "code",
   "execution_count": 15,
   "metadata": {},
   "outputs": [
    {
     "name": "stderr",
     "output_type": "stream",
     "text": [
      "c:\\Users\\PC\\Text_summarization_final\\senv\\lib\\site-packages\\tqdm\\auto.py:21: TqdmWarning: IProgress not found. Please update jupyter and ipywidgets. See https://ipywidgets.readthedocs.io/en/stable/user_install.html\n",
      "  from .autonotebook import tqdm as notebook_tqdm\n"
     ]
    },
    {
     "name": "stdout",
     "output_type": "stream",
     "text": [
      "[2024-02-09 17:38:27,080:INFO:config:PyTorch version 2.2.0 available.]\n"
     ]
    }
   ],
   "source": [
    "import os \n",
    "from textSummarization.logging import logger \n",
    "from transformers import AutoTokenizer\n",
    "from datasets import load_dataset,load_from_disk"
   ]
  },
  {
   "cell_type": "code",
   "execution_count": 19,
   "metadata": {},
   "outputs": [],
   "source": [
    "class DataTransformation:\n",
    "    def __init__(self, config: DataTransfomrationConfig):\n",
    "        self.config = config\n",
    "        self.tokenizer = AutoTokenizer.from_pretrained(config.tokenizer_name)\n",
    "    \n",
    "    def convert_examples_to_features(self,example_batch):\n",
    "        input_encodings=self.tokenizer(example_batch['dialogue'],max_length=1024,truncation=True)\n",
    "        with self.tokenizer.as_target_tokenizer():\n",
    "            target_encodings=self.tokenizer(example_batch['summary'],max_length=128,truncation=True)\n",
    "            \n",
    "        return {\n",
    "            'inputs_ids':input_encodings['input_ids'],\n",
    "            'attention_mask':input_encodings['attention_mask'],\n",
    "            'labels':target_encodings['input_ids']\n",
    "        }\n",
    "        \n",
    "        \n",
    "    def convert(self):\n",
    "        dataset_samsum = load_from_disk(self.config.data_path)\n",
    "        dataset_samsum_pt = dataset_samsum.map(self.convert_examples_to_features, batched = True)\n",
    "        dataset_samsum_pt.save_to_disk(os.path.join(self.config.root_dir,\"samsum_dataset\"))\n",
    "            \n",
    "        \n",
    "     \n",
    "\n",
    "\n",
    "    \n",
    "    \n",
    "    "
   ]
  },
  {
   "cell_type": "code",
   "execution_count": 20,
   "metadata": {},
   "outputs": [
    {
     "name": "stdout",
     "output_type": "stream",
     "text": [
      "[2024-02-09 17:55:24,625:INFO:common:yaml file :config\\config.yaml loaded success ]\n",
      "[2024-02-09 17:55:24,650:INFO:common:yaml file :params.yaml loaded success ]\n",
      "[2024-02-09 17:55:24,652:INFO:common:created directory at: artifacts]\n",
      "[2024-02-09 17:55:24,657:INFO:common:created directory at: artifacts/data_transformation]\n"
     ]
    },
    {
     "name": "stderr",
     "output_type": "stream",
     "text": [
      "Map:   0%|          | 0/14732 [00:00<?, ? examples/s]c:\\Users\\PC\\Text_summarization_final\\senv\\lib\\site-packages\\transformers\\tokenization_utils_base.py:3866: UserWarning: `as_target_tokenizer` is deprecated and will be removed in v5 of Transformers. You can tokenize your labels by using the argument `text_target` of the regular `__call__` method (either in the same call as your input texts if you use the same keyword arguments, or in a separate call.\n",
      "  warnings.warn(\n",
      "Map: 100%|██████████| 14732/14732 [00:05<00:00, 2647.43 examples/s]\n",
      "Map: 100%|██████████| 819/819 [00:00<00:00, 2349.17 examples/s]\n",
      "Map: 100%|██████████| 818/818 [00:00<00:00, 2353.99 examples/s]\n",
      "Saving the dataset (1/1 shards): 100%|██████████| 14732/14732 [00:00<00:00, 266683.15 examples/s]\n",
      "Saving the dataset (1/1 shards): 100%|██████████| 819/819 [00:00<00:00, 145169.04 examples/s]\n",
      "Saving the dataset (1/1 shards): 100%|██████████| 818/818 [00:00<00:00, 61368.71 examples/s]\n"
     ]
    }
   ],
   "source": [
    "config = ConfrigurationManager()\n",
    "data_transformation_config = config.get_data_transformation_config()\n",
    "data_transformation = DataTransformation(config=data_transformation_config)\n",
    "data_transformation.convert()"
   ]
  },
  {
   "cell_type": "code",
   "execution_count": null,
   "metadata": {},
   "outputs": [],
   "source": []
  }
 ],
 "metadata": {
  "kernelspec": {
   "display_name": "Python 3",
   "language": "python",
   "name": "python3"
  },
  "language_info": {
   "codemirror_mode": {
    "name": "ipython",
    "version": 3
   },
   "file_extension": ".py",
   "mimetype": "text/x-python",
   "name": "python",
   "nbconvert_exporter": "python",
   "pygments_lexer": "ipython3",
   "version": "3.8.18"
  }
 },
 "nbformat": 4,
 "nbformat_minor": 2
}
